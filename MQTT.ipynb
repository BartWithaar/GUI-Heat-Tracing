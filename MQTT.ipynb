{
 "metadata": {
  "language_info": {
   "codemirror_mode": {
    "name": "ipython",
    "version": 3
   },
   "file_extension": ".py",
   "mimetype": "text/x-python",
   "name": "python",
   "nbconvert_exporter": "python",
   "pygments_lexer": "ipython3",
   "version": "3.9.4"
  },
  "orig_nbformat": 2,
  "kernelspec": {
   "name": "python394jvsc74a57bd03113e3506d3fcf51833af2472c3339019d01c28b0e5f49cb87592d9b62568d55",
   "display_name": "Python 3.9.4 64-bit"
  },
  "metadata": {
   "interpreter": {
    "hash": "3113e3506d3fcf51833af2472c3339019d01c28b0e5f49cb87592d9b62568d55"
   }
  }
 },
 "nbformat": 4,
 "nbformat_minor": 2,
 "cells": [
  {
   "cell_type": "code",
   "execution_count": 1,
   "metadata": {},
   "outputs": [
    {
     "output_type": "stream",
     "name": "stdout",
     "text": [
      "Connecting to broker:  test.mosquitto.org\n",
      "Connected OK\n",
      "message recieved Hallo Server\n",
      "['Hallo', 'Server']\n",
      "message recieved AM1 Amsterdam 140 130 130 2021/5/20 \n",
      "Device id:  AM1\n",
      "Location:  Amsterdam\n",
      "Temp:  140\n",
      "AVG temp:  130\n",
      "Battery:  130\n",
      "Date:  2021/5/20\n"
     ]
    },
    {
     "output_type": "display_data",
     "data": {
      "text/plain": "  Device   Location Temperature Average temperature Battery       Date\n0    AM1  Amsterdam         140                 130     130  2021/5/20",
      "text/html": "<div>\n<style scoped>\n    .dataframe tbody tr th:only-of-type {\n        vertical-align: middle;\n    }\n\n    .dataframe tbody tr th {\n        vertical-align: top;\n    }\n\n    .dataframe thead th {\n        text-align: right;\n    }\n</style>\n<table border=\"1\" class=\"dataframe\">\n  <thead>\n    <tr style=\"text-align: right;\">\n      <th></th>\n      <th>Device</th>\n      <th>Location</th>\n      <th>Temperature</th>\n      <th>Average temperature</th>\n      <th>Battery</th>\n      <th>Date</th>\n    </tr>\n  </thead>\n  <tbody>\n    <tr>\n      <th>0</th>\n      <td>AM1</td>\n      <td>Amsterdam</td>\n      <td>140</td>\n      <td>130</td>\n      <td>130</td>\n      <td>2021/5/20</td>\n    </tr>\n  </tbody>\n</table>\n</div>"
     },
     "metadata": {}
    },
    {
     "output_type": "stream",
     "name": "stdout",
     "text": [
      "['AM1', 'Amsterdam', '140', '130', '130', '2021/5/20']\n"
     ]
    }
   ],
   "source": [
    "    import paho.mqtt.client as mqtt\n",
    "    import time\n",
    "    import pandas as pd\n",
    "    import csv\n",
    "\n",
    "    def data2csv(device, location, temp, avg_temp, battery, date):\n",
    "        \n",
    "        df = pd.read_csv(\"Data_Files/TestData.csv\", sep=\",\")\n",
    "\n",
    "        df3 = df[['Device','Location','Temperature','Average temperature', 'Battery', 'Date']]\n",
    "\n",
    "        df3 = df3.append({'Device': device ,'Location': location,'Temperature': temp,'Average temperature': avg_temp, 'Battery': battery, 'Date': date},                      ignore_index=True)\n",
    "\n",
    "        display(df3)\n",
    "\n",
    "        df3.to_csv('Data_Files/TestData.csv')\n",
    "        \n",
    "        \n",
    "    def on_log(client, userdata, level, buf):\n",
    "        print(\"log:\", buf)\n",
    "\n",
    "    def on_connect(client, userdata, flags, rc):\n",
    "        if rc==0:\n",
    "            print(\"Connected OK\")\n",
    "        else:\n",
    "            print(\"Bad connection returned code= \",rc)\n",
    "\n",
    "    def on_disconnect(client, userdata, flags, rc=0):\n",
    "        print(\"Disconnected result code \"+str(rc))\n",
    "\n",
    "    def on_message(client, userdata, msg):\n",
    "        topic=msg.topic\n",
    "        rmsg = []\n",
    "        #Decodes message and stores message in m_decode  \n",
    "        m_decode=str(msg.payload.decode(\"utf-8\",\"ignore\"))\n",
    "        print(\"message recieved\", m_decode)\n",
    "        #splits message\n",
    "        rmsg = m_decode.split()\n",
    "        \n",
    "        #When the message contains 6 pieces of data the correct data is assigned\n",
    "        if(len(rmsg) == 6):\n",
    "            Device = rmsg[0]\n",
    "            Location = rmsg[1]\n",
    "            Temperature = rmsg[2]\n",
    "            Average_temperature = rmsg[3]\n",
    "            Battery = rmsg[4]\n",
    "            Date = rmsg[5]\n",
    "            print(\"Device id: \" ,Device)\n",
    "            print(\"Location: \", Location)\n",
    "            print(\"Temp: \", Temperature)\n",
    "            print(\"AVG temp: \", Average_temperature)\n",
    "            print(\"Battery: \", Battery)\n",
    "            print(\"Date: \" ,Date)\n",
    "            data2csv(Device, Location, Temperature, Average_temperature, Battery, Date)\n",
    "        \n",
    "        print(rmsg)\n",
    "\n",
    "    broker = \"test.mosquitto.org\"\n",
    "    client = mqtt.Client(\"tracing1\")\n",
    "    counter = 0\n",
    "    client.on_connect=on_connect\n",
    "    client.on_disconnect=on_disconnect\n",
    "    client.on_message=on_message\n",
    "    print(\"Connecting to broker: \", broker)\n",
    "    client.connect(broker)\n",
    "    client.loop_start()\n",
    "    client.subscribe(\"tracing\")\n",
    "    client.publish(\"tracing\",\"Hallo Server\")\n",
    "    while(counter<1000):\n",
    "        time.sleep(1)\n",
    "        counter += 1\n",
    "    client.loop_stop()\n",
    "    client.disconnect() \n"
   ]
  },
  {
   "cell_type": "code",
   "execution_count": null,
   "metadata": {},
   "outputs": [],
   "source": []
  },
  {
   "cell_type": "code",
   "execution_count": null,
   "metadata": {},
   "outputs": [],
   "source": []
  }
 ]
}
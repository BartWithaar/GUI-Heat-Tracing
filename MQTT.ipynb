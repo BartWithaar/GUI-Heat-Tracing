{
 "metadata": {
  "language_info": {
   "codemirror_mode": {
    "name": "ipython",
    "version": 3
   },
   "file_extension": ".py",
   "mimetype": "text/x-python",
   "name": "python",
   "nbconvert_exporter": "python",
   "pygments_lexer": "ipython3",
   "version": "3.9.4"
  },
  "orig_nbformat": 2,
  "kernelspec": {
   "name": "python394jvsc74a57bd05fcd2642978b16f6bbd7e7ad8d3dd4856b9ed7b9e5afb74471291183f56d1393",
   "display_name": "Python 3.9.4 64-bit"
  },
  "metadata": {
   "interpreter": {
    "hash": "5fcd2642978b16f6bbd7e7ad8d3dd4856b9ed7b9e5afb74471291183f56d1393"
   }
  }
 },
 "nbformat": 4,
 "nbformat_minor": 2,
 "cells": [
  {
   "source": [
    "/* @author  Bart Withaar, Joan den Otter\n",
    " * @date    28-5-2021\n",
    " * @brief   This function is for demonstrating incomming mqtt messages, this is run seperatly from the GUI notebook.\n",
    " * @param   device: device id\n",
    " * @param   location: device location\n",
    " * @param   temp: the temperature which is sent by the device\n",
    " * @param   date: the date on which the message has been received\n",
    " * @note    None\n",
    " * @todo    Nothing\n",
    " * @retval  Nothing\n",
    " */"
   ],
   "cell_type": "markdown",
   "metadata": {}
  },
  {
   "cell_type": "code",
   "execution_count": null,
   "metadata": {},
   "outputs": [],
   "source": [
    "    import paho.mqtt.client as mqtt\n",
    "    import time\n",
    "    import pandas as pd\n",
    "    import csv\n",
    "\n",
    "    def data2csv(device, location, temp, date):\n",
    "        \n",
    "        df3 = pd.read_csv(\"C:/Users/simon/Documents/GitHub/GUI-Heat-Tracing/Dummy_data.csv\", sep=\",\")\n",
    "\n",
    "\n",
    "        df3 = df3.append({'Device': device ,'Location': location,'Temperature': temp,'Date': date},                      ignore_index=True)\n",
    "\n",
    "        display(df3)\n",
    "\n",
    "        df3.to_csv(\"C:/Users/simon/Documents/GitHub/GUI-Heat-Tracing/Dummy_data.csv\")\n",
    "\n",
    "    #data2csv(\"AM1\",\"Amsterdam\",\"99\",\"2021/7/20\") \n",
    "        \n",
    "    def on_log(client, userdata, level, buf):\n",
    "        print(\"log:\", buf)\n",
    "\n",
    "    def on_connect(client, userdata, flags, rc):\n",
    "        if rc==0:\n",
    "            print(\"Connected OK\")\n",
    "        else:\n",
    "            print(\"Bad connection returned code= \",rc)\n",
    "\n",
    "    def on_disconnect(client, userdata, flags, rc=0):\n",
    "        print(\"Disconnected result code \"+str(rc))\n",
    "\n",
    "    def on_message(client, userdata, msg):\n",
    "        topic=msg.topic\n",
    "        rmsg = []\n",
    "        #Decodes message and stores message in m_decode  \n",
    "        m_decode=str(msg.payload.decode(\"utf-8\",\"ignore\"))\n",
    "        print(\"message recieved\", m_decode)\n",
    "        #splits message\n",
    "        rmsg = m_decode.split()\n",
    "        \n",
    "        #When the message contains 6 pieces of data the correct data is assigned\n",
    "        if(len(rmsg) == 6):\n",
    "            Device = rmsg[0]\n",
    "            Location = rmsg[1]\n",
    "            Temperature = rmsg[2]\n",
    "            Average_temperature = rmsg[3]\n",
    "            Battery = rmsg[4]\n",
    "            Date = rmsg[5]\n",
    "            print(\"Device id: \" ,Device)\n",
    "            print(\"Location: \", Location)\n",
    "            print(\"Temp: \", Temperature)\n",
    "            print(\"AVG temp: \", Average_temperature)\n",
    "            print(\"Battery: \", Battery)\n",
    "            print(\"Date: \" ,Date)\n",
    "            data2csv(Device, Location, Temperature, Date)\n",
    "        \n",
    "        print(rmsg)\n",
    "\n",
    "    broker = \"test.mosquitto.org\"\n",
    "    client = mqtt.Client(\"tracing1\")\n",
    "    counter = 0\n",
    "    client.on_connect=on_connect\n",
    "    client.on_disconnect=on_disconnect\n",
    "    client.on_message=on_message\n",
    "    print(\"Connecting to broker: \", broker)\n",
    "    client.connect(broker)\n",
    "    client.loop_start()\n",
    "    client.subscribe(\"tracing\")\n",
    "    client.publish(\"tracing\",\"Hallo Server\")\n",
    "    while(counter<1000):\n",
    "        time.sleep(1)\n",
    "        counter += 1\n",
    "    client.loop_stop()\n",
    "    client.disconnect() \n"
   ]
  }
 ]
}
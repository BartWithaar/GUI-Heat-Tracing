{
 "metadata": {
  "language_info": {
   "codemirror_mode": {
    "name": "ipython",
    "version": 3
   },
   "file_extension": ".py",
   "mimetype": "text/x-python",
   "name": "python",
   "nbconvert_exporter": "python",
   "pygments_lexer": "ipython3",
   "version": "3.9.4"
  },
  "orig_nbformat": 2,
  "kernelspec": {
   "name": "python394jvsc74a57bd03113e3506d3fcf51833af2472c3339019d01c28b0e5f49cb87592d9b62568d55",
   "display_name": "Python 3.9.4 64-bit"
  },
  "metadata": {
   "interpreter": {
    "hash": "3113e3506d3fcf51833af2472c3339019d01c28b0e5f49cb87592d9b62568d55"
   }
  }
 },
 "nbformat": 4,
 "nbformat_minor": 2,
 "cells": [
  {
   "cell_type": "code",
   "execution_count": 1,
   "metadata": {},
   "outputs": [
    {
     "output_type": "stream",
     "name": "stdout",
     "text": [
      "Connecting to broker:  test.mosquitto.org\n",
      "Connected OK\n",
      "message recieved Hallo Server\n",
      "['Hallo', 'Server']\n",
      "message recieved AM1 Amsterdam 140 130 130 2021/5/20 \n",
      "Device id:  AM1\n",
      "Location:  Amsterdam\n",
      "Temp:  140\n",
      "AVG temp:  130\n",
      "Battery:  130\n",
      "Date:  2021/5/20\n",
      "['AM1', 'Amsterdam', '140', '130', '130', '2021/5/20']\n"
     ]
    },
    {
     "output_type": "error",
     "ename": "KeyboardInterrupt",
     "evalue": "",
     "traceback": [
      "\u001b[1;31m---------------------------------------------------------------------------\u001b[0m",
      "\u001b[1;31mKeyboardInterrupt\u001b[0m                         Traceback (most recent call last)",
      "\u001b[1;32m<ipython-input-1-3532e38d62f0>\u001b[0m in \u001b[0;36m<module>\u001b[1;34m\u001b[0m\n\u001b[0;32m     52\u001b[0m \u001b[0mclient\u001b[0m\u001b[1;33m.\u001b[0m\u001b[0mpublish\u001b[0m\u001b[1;33m(\u001b[0m\u001b[1;34m\"tracing\"\u001b[0m\u001b[1;33m,\u001b[0m\u001b[1;34m\"Hallo Server\"\u001b[0m\u001b[1;33m)\u001b[0m\u001b[1;33m\u001b[0m\u001b[1;33m\u001b[0m\u001b[0m\n\u001b[0;32m     53\u001b[0m \u001b[1;32mwhile\u001b[0m\u001b[1;33m(\u001b[0m\u001b[0mcounter\u001b[0m\u001b[1;33m<\u001b[0m\u001b[1;36m1000\u001b[0m\u001b[1;33m)\u001b[0m\u001b[1;33m:\u001b[0m\u001b[1;33m\u001b[0m\u001b[1;33m\u001b[0m\u001b[0m\n\u001b[1;32m---> 54\u001b[1;33m     \u001b[0mtime\u001b[0m\u001b[1;33m.\u001b[0m\u001b[0msleep\u001b[0m\u001b[1;33m(\u001b[0m\u001b[1;36m1\u001b[0m\u001b[1;33m)\u001b[0m\u001b[1;33m\u001b[0m\u001b[1;33m\u001b[0m\u001b[0m\n\u001b[0m\u001b[0;32m     55\u001b[0m     \u001b[0mcounter\u001b[0m \u001b[1;33m+=\u001b[0m \u001b[1;36m1\u001b[0m\u001b[1;33m\u001b[0m\u001b[1;33m\u001b[0m\u001b[0m\n\u001b[0;32m     56\u001b[0m \u001b[0mclient\u001b[0m\u001b[1;33m.\u001b[0m\u001b[0mloop_stop\u001b[0m\u001b[1;33m(\u001b[0m\u001b[1;33m)\u001b[0m\u001b[1;33m\u001b[0m\u001b[1;33m\u001b[0m\u001b[0m\n",
      "\u001b[1;31mKeyboardInterrupt\u001b[0m: "
     ]
    }
   ],
   "source": [
    "    import paho.mqtt.client as mqtt\n",
    "    import time\n",
    "    import pandas as pd\n",
    "\n",
    "    def on_log(client, userdata, level, buf):\n",
    "        print(\"log:\", buf)\n",
    "\n",
    "    def on_connect(client, userdata, flags, rc):\n",
    "        if rc==0:\n",
    "            print(\"Connected OK\")\n",
    "        else:\n",
    "            print(\"Bad connection returned code= \",rc)\n",
    "\n",
    "    def on_disconnect(client, userdata, flags, rc=0):\n",
    "        print(\"Disconnected result code \"+str(rc))\n",
    "\n",
    "    def on_message(client, userdata, msg):\n",
    "        topic=msg.topic\n",
    "        rmsg = []\n",
    "        #Decodes message and stores message in m_decode  \n",
    "        m_decode=str(msg.payload.decode(\"utf-8\",\"ignore\"))\n",
    "        print(\"message recieved\", m_decode)\n",
    "        rmsg = m_decode.split()\n",
    "\n",
    "        if(len(rmsg) == 6):\n",
    "            Device = rmsg[0]\n",
    "            Location = rmsg[1]\n",
    "            Temperature = rmsg[2]\n",
    "            Average_temperature = rmsg[3]\n",
    "            Battery = rmsg[4]\n",
    "            Date = rmsg[5]\n",
    "            print(\"Device id: \" ,Device)\n",
    "            print(\"Location: \", Location)\n",
    "            print(\"Temp: \", Temperature)\n",
    "            print(\"AVG temp: \", Average_temperature)\n",
    "            print(\"Battery: \", Battery)\n",
    "            print(\"Date: \" ,Date)\n",
    "\n",
    "        print(rmsg)\n",
    "\n",
    "    broker = \"test.mosquitto.org\"\n",
    "    client = mqtt.Client(\"tracing1\")\n",
    "    counter = 0\n",
    "    client.on_connect=on_connect\n",
    "    client.on_disconnect=on_disconnect\n",
    "    # client.on_log=on_log\\n\",\n",
    "    client.on_message=on_message\n",
    "    print(\"Connecting to broker: \", broker)\n",
    "    client.connect(broker)\n",
    "    client.loop_start()\n",
    "    client.subscribe(\"tracing\")\n",
    "    client.publish(\"tracing\",\"Hallo Server\")\n",
    "    while(counter<1000):\n",
    "        time.sleep(1)\n",
    "        counter += 1\n",
    "    client.loop_stop()\n",
    "    client.disconnect() \n"
   ]
  },
  {
   "cell_type": "code",
   "execution_count": null,
   "metadata": {},
   "outputs": [],
   "source": [
    "df = pd.read_csv(\"Data_Files/TestData.csv\", sep=\",\")\n",
    "\n",
    "df3 = df[['Device','Location','Temperature','Average temperature', 'Battery', 'Date']]\n",
    "\n",
    "\n",
    "\n",
    "df3['Battery']+=756\n",
    "\n",
    "new_input_device = \"AM2\"\n",
    "\n",
    "new_input_location =  \"Amsterdam\"\n",
    "\n",
    "new_input_temperature = \"Temp\"\n",
    "\n",
    "new_input_average_temperature = \"AVG temp\"\n",
    "\n",
    "new_input_battery = \"100\"\n",
    "\n",
    "new_input_date = \"Dit is data\"\n",
    "\n",
    "\n",
    "\n",
    "for index in df3.index:\n",
    "\n",
    "    if df3.loc[index,'Device'] == new_input_device:\n",
    "\n",
    "        df3.loc[index,'Location'] = new_input_location\n",
    "\n",
    "        df3.loc[index,'Temperature'] = new_input_temperature\n",
    "\n",
    "        df3.loc[index,'Average temperature'] = new_input_average_temperature\n",
    "\n",
    "        df3.loc[index,'Battery'] = new_input_battery\n",
    "\n",
    "        df3.loc[index,'Date'] = new_input_date\n",
    "\n",
    "\n",
    "\n",
    "    # elif df3.loc[index,'Name']=='Mr. Zachary J. Kirkhorn':\n",
    "\n",
    "    #     df3.loc[index,'Title'] = 'The Money Man'\n",
    "\n",
    "    # else:\n",
    "\n",
    "    #     df3.loc[index,'Title'] = 'Another Dude'\n",
    "\n",
    "df3.to_csv('Data_Files/TestData.csv')\n",
    "\n",
    "df3"
   ]
  },
  {
   "cell_type": "code",
   "execution_count": null,
   "metadata": {},
   "outputs": [],
   "source": []
  }
 ]
}
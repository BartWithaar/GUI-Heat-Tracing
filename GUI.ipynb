{
 "metadata": {
  "language_info": {
   "codemirror_mode": {
    "name": "ipython",
    "version": 3
   },
   "file_extension": ".py",
   "mimetype": "text/x-python",
   "name": "python",
   "nbconvert_exporter": "python",
   "pygments_lexer": "ipython3",
   "version": "3.8.3"
  },
  "orig_nbformat": 2,
  "kernelspec": {
   "name": "python383jvsc74a57bd02db524e06e9f5f4ffedc911c917cb75e12dbc923643829bf417064a77eb14d37",
   "display_name": "Python 3.8.3 64-bit"
  }
 },
 "nbformat": 4,
 "nbformat_minor": 2,
 "cells": [
  {
   "cell_type": "code",
   "execution_count": 9,
   "metadata": {},
   "outputs": [
    {
     "output_type": "stream",
     "name": "stdout",
     "text": [
      "Connecting to broker:  test.mosquitto.org\n",
      "log:  Sending CONNECT (u0, p0, wr0, wq0, wf0, c1, k60) client_id=b'tracing1'\n",
      "log:  Sending SUBSCRIBE (d0, m1) [(b'tracing', 0)]\n",
      "log:  Sending PUBLISH (d0, q0, r0, m2), 'b'tracing'', ... (12 bytes)\n",
      "log:  Received CONNACK (0, 0)\n",
      "Connected OK\n",
      "log:  Received SUBACK\n",
      "log:  Received PUBLISH (d0, q0, r0, m0), 'tracing', ...  (12 bytes)\n",
      "message recieved Hallo Server\n",
      "log:  Sending DISCONNECT\n",
      "Disconnected result code 0\n"
     ]
    },
    {
     "output_type": "execute_result",
     "data": {
      "text/plain": [
       "0"
      ]
     },
     "metadata": {},
     "execution_count": 9
    }
   ],
   "source": [
    "import paho.mqtt.client as mqtt\n",
    "import time\n",
    "def on_log(client, userdata, level, buf):\n",
    "    print(\"log: \",buf)\n",
    "\n",
    "def on_connect(client, userdata, flags, rc):\n",
    "    if rc==0:\n",
    "        print(\"Connected OK\")\n",
    "    else:\n",
    "        print(\"Bad connection returned code=\",rc)\n",
    "def on_disconnect(client, userdata, flags, rc=0):\n",
    "    print(\"Disconnected result code \"+str(rc))\n",
    "def on_message(client, userdata, msg):\n",
    "    topic=msg.topic\n",
    "    m_decode=str(msg.payload.decode(\"utf-8\",\"ignore\"))\n",
    "    print(\"message recieved\", m_decode)\n",
    "\n",
    "\n",
    "broker = \"test.mosquitto.org\"\n",
    "client = mqtt.Client(\"tracing1\")\n",
    "counter = 0\n",
    "\n",
    "client.on_connect=on_connect\n",
    "client.on_disconnect=on_disconnect\n",
    "# client.on_log=on_log\n",
    "client.on_message=on_message\n",
    "\n",
    "print(\"Connecting to broker: \", broker)\n",
    "client.connect(broker)\n",
    "client.loop_start()\n",
    "client.subscribe(\"tracing\")\n",
    "client.publish(\"tracing\",\"Hallo Server\")\n",
    "while(counter<1000):\n",
    "    time.sleep(4)\n",
    "    counter += 1\n",
    "client.loop_stop()\n",
    "\n",
    "client.disconnect()\n"
   ]
  },
  {
   "cell_type": "code",
   "execution_count": null,
   "metadata": {},
   "outputs": [],
   "source": []
  }
 ]
}
{
 "cells": [
  {
   "cell_type": "markdown",
   "id": "commercial-bride",
   "metadata": {},
   "source": [
    "### Import data"
   ]
  },
  {
   "cell_type": "code",
   "execution_count": 21,
   "id": "auburn-calgary",
   "metadata": {},
   "outputs": [],
   "source": [
    "import ipywidgets as ipw\n",
    "import pandas as pd\n",
    "import numpy as np\n",
    "import matplotlib.pyplot as plt\n",
    "import dataframe_image as dfi\n",
    "import anvil.mpl_util\n",
    "import os\n",
    "\n",
    "from IPython.core.display import HTML, clear_output\n",
    "from ipywidgets.widgets import Label, Layout\n",
    "from ipywidgets.widgets import Button, Text, ToggleButtons\n",
    "from ipywidgets.widgets import interact, interactive, fixed, interact_manual\n"
   ]
  },
  {
   "cell_type": "code",
   "execution_count": 22,
   "id": "thick-russian",
   "metadata": {},
   "outputs": [
    {
     "output_type": "display_data",
     "data": {
      "text/plain": "<IPython.core.display.HTML object>",
      "text/html": "<style>.myclass { color:white ; font-size:150% ; border-radius: 0px;}\n"
     },
     "metadata": {}
    }
   ],
   "source": [
    "%%html\n",
    "<style>.myclass { color:white ; font-size:150% ; border-radius: 0px;}\n"
   ]
  },
  {
   "cell_type": "markdown",
   "id": "small-stress",
   "metadata": {},
   "source": [
    "### Graphbutton + GraphAction"
   ]
  },
  {
   "cell_type": "code",
   "execution_count": 23,
   "id": "comprehensive-excitement",
   "metadata": {},
   "outputs": [],
   "source": [
    "btn_graph = ipw.Button(\n",
    "    description = \"graph\",\n",
    "    disabled = False,\n",
    "    style = {'button_color': 'purple'},\n",
    "    layout = Layout(width = '120%', height='40px')\n",
    ")\n",
    "btn_graph.add_class('myclass')\n",
    "\n",
    "btn_graph.layout.width='auto'\n",
    "x = \"\""
   ]
  },
  {
   "cell_type": "code",
   "execution_count": 24,
   "id": "external-dinner",
   "metadata": {},
   "outputs": [
    {
     "output_type": "display_data",
     "data": {
      "text/plain": "Button(description='graph', layout=Layout(height='40px', width='auto'), style=ButtonStyle(button_color='purple…",
      "application/vnd.jupyter.widget-view+json": {
       "version_major": 2,
       "version_minor": 0,
       "model_id": "c3c9ca73b3934730893ee472a09cca25"
      }
     },
     "metadata": {}
    }
   ],
   "source": [
    "def graph(b):\n",
    "    print(\"graph\")\n",
    "    global x\n",
    "    x = \"Test.graph\"\n",
    "\n",
    "btn_graph.on_click(graph)\n",
    "btn_graph"
   ]
  },
  {
   "cell_type": "markdown",
   "id": "excess-honduras",
   "metadata": {},
   "source": [
    "### Tablebutton + TabbleAction"
   ]
  },
  {
   "cell_type": "code",
   "execution_count": 25,
   "id": "tropical-jumping",
   "metadata": {},
   "outputs": [],
   "source": [
    "btn_table = ipw.Button(\n",
    "    description = \"table\",\n",
    "    disabled = False,\n",
    "    button_style='info', # 'success', 'info', 'warning', 'danger' or ''\n",
    "    layout = Layout(width = '50%', height='30px')\n",
    ")\n",
    "btn_table.add_class('myclass')\n",
    "\n",
    "btn_table.layout.width='auto'\n",
    "x = \"\""
   ]
  },
  {
   "cell_type": "code",
   "execution_count": 26,
   "id": "moved-norway",
   "metadata": {},
   "outputs": [],
   "source": [
    "def table(b):\n",
    "    print(\"table\")\n",
    "    out.clear_output()\n",
    "    global x\n",
    "    x = \"Test.table\"\n",
    "\n",
    "\n",
    "btn_table.on_click(table)"
   ]
  },
  {
   "cell_type": "markdown",
   "id": "outstanding-conditions",
   "metadata": {},
   "source": [
    "### searchBox + SearchBoxAction:"
   ]
  },
  {
   "cell_type": "code",
   "execution_count": 27,
   "id": "military-consideration",
   "metadata": {},
   "outputs": [],
   "source": [
    "search_box = ipw.Text(\n",
    "    placeholder = \"Search\"\n",
    ")\n",
    "searchInfo = \"\"\n",
    "filter = False\n",
    "df_filter = pd.read_csv(\"TestData.csv\", sep=\",\")\n"
   ]
  },
  {
   "cell_type": "code",
   "execution_count": 28,
   "id": "fatal-chrome",
   "metadata": {},
   "outputs": [],
   "source": [
    "@anvil.server.callable\n",
    "def handle_submit(sender):\n",
    "    print(search_box.value)\n",
    "    searchInfo = search_box.value\n",
    "    filter = True\n",
    "    global df_filter\n",
    "    df_filter=df[df.apply(lambda row: row.astype(str).str.contains(searchInfo).any(), axis=1)]\n",
    "    update_table(df_filter)\n",
    "    \n",
    "search_box.on_submit(handle_submit)"
   ]
  },
  {
   "cell_type": "markdown",
   "id": "bibliographic-rescue",
   "metadata": {},
   "source": [
    "### Togglebuttons + ToggleActions"
   ]
  },
  {
   "cell_type": "code",
   "execution_count": 29,
   "id": "integral-summit",
   "metadata": {
    "tags": []
   },
   "outputs": [],
   "source": [
    "toggle = ipw.ToggleButtons(\n",
    "    options=['Device', 'Location', 'Temperature', 'Average temperature', 'Battery', 'Date'],\n",
    "    description='',\n",
    "    disabled=False,\n",
    "    button_style='success', # 'success', 'info', 'warning', 'danger' or ''\n",
    "    style = {'togglebutton_color': 'purple'},\n",
    "    tooltips=[],\n",
    "#     icons=['check'] * 3\n",
    ")\n",
    "toggle.add_class('myclass')\n",
    "\n",
    "sort_var = 'Device'\n"
   ]
  },
  {
   "cell_type": "code",
   "execution_count": 30,
   "id": "conscious-external",
   "metadata": {},
   "outputs": [
    {
     "output_type": "display_data",
     "data": {
      "text/plain": "ToggleButtons(_dom_classes=('myclass',), button_style='success', options=('Device', 'Location', 'Temperature',…",
      "application/vnd.jupyter.widget-view+json": {
       "version_major": 2,
       "version_minor": 0,
       "model_id": "824846c30d3b4bb0934492a4399b566b"
      }
     },
     "metadata": {}
    }
   ],
   "source": [
    "def changed(change):\n",
    "    if(toggle.value=='Device', toggle.value=='Battery', toggle.value=='Temperature', toggle.value=='Average temperature', toggle.value=='Date',toggle, toggle.value=='Location',):\n",
    "        print(toggle.value)\n",
    "        global sort_var\n",
    "        sort_var = toggle.value\n",
    "    update_table()\n",
    "\n",
    "\n",
    "toggle.observe(changed, 'value')\n",
    "\n",
    "display(toggle)"
   ]
  },
  {
   "cell_type": "markdown",
   "id": "functional-authentication",
   "metadata": {},
   "source": [
    "### Header Layout"
   ]
  },
  {
   "cell_type": "code",
   "execution_count": 31,
   "id": "soviet-charleston",
   "metadata": {},
   "outputs": [],
   "source": [
    "Heading_text= ipw.HTML(\"<h3 class='text-center'><font color='purple'>Heat Tracing </font> <font color='green'>Network Solution </font>\")\n",
    "\n",
    "toggle_row = ipw.HBox([toggle, search_box])\n",
    "header_row = ipw.HBox([toggle_row, btn_graph])\n",
    "header_row.layout.justify_content = \"space-between\"\n",
    "search_box.layout.width='auto'\n",
    "header = ipw.VBox([Heading_text, header_row])\n"
   ]
  },
  {
   "cell_type": "markdown",
   "id": "identified-medicare",
   "metadata": {},
   "source": [
    "### Data Table:"
   ]
  },
  {
   "cell_type": "code",
   "execution_count": 32,
   "id": "indonesian-conflict",
   "metadata": {},
   "outputs": [],
   "source": [
    "df = pd.read_csv(\"TestData.csv\", sep=\",\")\n",
    "pd.set_option('display.max_columns', 200) \n",
    "pd.set_option('display.max_rows', 200) \n",
    "\n",
    "\n",
    "# df_sorted starts out sorting by device\n",
    "df_sorted=df.sort_values(by=['Device'])"
   ]
  },
  {
   "cell_type": "markdown",
   "id": "enormous-breathing",
   "metadata": {},
   "source": [
    "### Update_Table"
   ]
  },
  {
   "cell_type": "code",
   "execution_count": 33,
   "id": "rational-terminology",
   "metadata": {},
   "outputs": [],
   "source": [
    "def update_table(df_filter):\n",
    "    df_update=df_filter.sort_values(by=[sort_var])\n",
    "    df_styled=style_table(df_update)\n",
    "    table.display(df_styled)\n",
    "#     draw_table(df_styled)\n",
    "    os.remove(\"mytable.png\")\n",
    "    dfi.export(df_styled,\"mytable.png\")\n",
    "    return df_styled"
   ]
  },
  {
   "cell_type": "markdown",
   "id": "functional-approval",
   "metadata": {},
   "source": [
    "### Style table"
   ]
  },
  {
   "cell_type": "code",
   "execution_count": 34,
   "id": "extensive-necklace",
   "metadata": {},
   "outputs": [],
   "source": [
    "def style_table(dataframe):\n",
    "    dataframe_styled = dataframe.style.set_table_styles(\n",
    "           [{\n",
    "               'selector': 'th',\n",
    "               'props': [\n",
    "                   ('font-size', '30pt'),\n",
    "                   ('color', 'purple')]\n",
    "           },\n",
    "           {\n",
    "               'selector': 'td',\n",
    "               'props': [\n",
    "                   ('font-size', '25pt'),\n",
    "                   ('color', 'black')]\n",
    "           }\n",
    "           ])\n",
    "\n",
    "    dataframe_styled.hide_index()\n",
    "    return dataframe_styled    "
   ]
  },
  {
   "cell_type": "code",
   "execution_count": null,
   "id": "disturbed-proceeding",
   "metadata": {},
   "outputs": [],
   "source": []
  },
  {
   "cell_type": "code",
   "execution_count": 35,
   "id": "automotive-array",
   "metadata": {},
   "outputs": [],
   "source": [
    "b_graph = Button(\n",
    "    description='Graph',\n",
    "    icon='stop',\n",
    "    layout=Layout(width='100px')\n",
    ")\n",
    "\n",
    "b_home = Button(\n",
    "    description='Home',\n",
    "    icon='stop',\n",
    "    layout=Layout(width='100px')\n",
    ")\n",
    "\n",
    "graphBox = ipw.VBox(\n",
    "    [\n",
    "        b_home,\n",
    "    ]\n",
    ")\n",
    "\n",
    "homeBox = ipw.VBox(\n",
    "    [\n",
    "        b_graph,\n",
    "    ]\n",
    ")"
   ]
  },
  {
   "cell_type": "code",
   "execution_count": 36,
   "id": "conscious-original",
   "metadata": {},
   "outputs": [
    {
     "output_type": "display_data",
     "data": {
      "text/plain": "VBox(children=(Text(value='', description='Device_ID:', layout=Layout(align_items='stretch', display='solid', …",
      "application/vnd.jupyter.widget-view+json": {
       "version_major": 2,
       "version_minor": 0,
       "model_id": "4ab8d3f9e7a04872b61b0e64344d7fd2"
      }
     },
     "metadata": {}
    }
   ],
   "source": [
    "Device_ID_Lenght = 10\n",
    "data = pd.read_csv('Dummy_data.CSV')\n",
    "data['Date'] = pd.to_datetime(data.Date)\n",
    "data['Week'] = data.Date.dt.isocalendar().week\n",
    "data['Month'] = data.Date.dt.month\n",
    "data['Day'] = data.Date.dt.day\n",
    "device_ID = ''\n",
    "\n",
    "temps = [60, 80, 94, 96, 100, 134, 160]\n",
    "temps2 = [62, 82, 96, 98, 102, 136, 162,166]\n",
    "\n",
    "a = np.array([])\n",
    "b = np.array([])\n",
    "c = np.array([])\n",
    "d = np.array([])\n",
    "e = np.array([])\n",
    "currentTimeDates = np.array([])\n",
    "\n",
    "def addLine(timedates, avg_temps, current):\n",
    "    global a\n",
    "    global b\n",
    "    global c\n",
    "    global d\n",
    "    global dates\n",
    "    \n",
    "    plt.style.use('seaborn')\n",
    "\n",
    "    plt.gcf().autofmt_xdate()\n",
    "\n",
    "    # data = pd.read_csv('data.csv')\n",
    "    # price_date = data['Date']\n",
    "    # price_close = data['Close']\n",
    "\n",
    "    plt.title('Average temp per day')\n",
    "    plt.xlabel('Date')\n",
    "    plt.ylabel('Average temp')\n",
    "\n",
    "    plt.tight_layout()\n",
    "    \n",
    "    if 1:\n",
    "        if current == 0:\n",
    "            a = avg_temps  \n",
    "        elif current == 1:\n",
    "            b = avg_temps    \n",
    "        elif current == 2:\n",
    "            c = avg_temps   \n",
    "        elif current == 3:\n",
    "            d = avg_temps\n",
    "        elif current == 4:\n",
    "            e = avg_temps\n",
    "        \n",
    "        if a.size != 0:\n",
    "            plt.plot_date(timedates, a, linestyle = 'solid',label='lijn1')\n",
    "        if b.size != 0:\n",
    "            plt.plot_date(timedates, b, linestyle = 'solid',label='lijn2')\n",
    "        if c.size != 0:\n",
    "            plt.plot_date(timedates, c, linestyle = 'solid',label='lijn3')\n",
    "\n",
    "        plt.draw()\n",
    "        plt.show()\n",
    "     \n",
    "z = [temps,temps2,[1,2,3,4,5],[2,3,4,5,6],[5,6,7,8,9],[],[8,7]]\n",
    "  \n",
    "\n",
    "\n",
    "current = 0\n",
    "\n",
    "b_add = Button(\n",
    "    description='Add graph',\n",
    "    icon='',\n",
    "    layout=Layout(width='100px')\n",
    ")\n",
    "\n",
    "box_layout = Layout(display='solid',\n",
    "                    flex_flow='row',\n",
    "                    align_items='stretch',\n",
    "                    width='250px')\n",
    "\n",
    "text = Text(value='',\n",
    "            placeholder='type here',\n",
    "            description='Device_ID:',\n",
    "            disabled=False,\n",
    "            layout = box_layout)\n",
    "\n",
    "\n",
    "def addGraph1(b):\n",
    "    global current\n",
    "    \n",
    "    device_ID = ('{}'.format(text.value))\n",
    "    \n",
    "    if len(device_ID) < Device_ID_Lenght:\n",
    "        #Changes button color to verify the device_ID is long enough\n",
    "        b_add.button_style = 'success'\n",
    "        searched_Data=data[data.apply(lambda row: row.astype(str).str.contains(device_ID).any(), axis=1)]\n",
    "        addLine(searched_Data['Date'], searched_Data['Average temp'],current)\n",
    "        current = current+1\n",
    "        #Searches the database based on the device_ID\n",
    "    else:\n",
    "        b_add.button_style = 'danger'\n",
    "        print(\"Het opgegeven device_ID is te lang\")\n",
    "\n",
    "        \n",
    "b_add.on_click(addGraph1)\n",
    "\n",
    "graph_box = ipw.VBox([text,b_add])\n",
    "display(graph_box)\n"
   ]
  },
  {
   "cell_type": "code",
   "execution_count": 26,
   "id": "desirable-sunset",
   "metadata": {},
   "outputs": [],
   "source": []
  },
  {
   "source": [
    "### Display CELL"
   ],
   "cell_type": "markdown",
   "metadata": {}
  },
  {
   "cell_type": "code",
   "execution_count": 37,
   "id": "possible-termination",
   "metadata": {},
   "outputs": [
    {
     "output_type": "display_data",
     "data": {
      "text/plain": "VBox(children=(HTML(value=\"<h3 class='text-center'><font color='purple'>Heat Tracing </font> <font color='gree…",
      "application/vnd.jupyter.widget-view+json": {
       "version_major": 2,
       "version_minor": 0,
       "model_id": "e515cdaef34a47c7a32a19223e19b166"
      }
     },
     "metadata": {}
    },
    {
     "output_type": "display_data",
     "data": {
      "text/plain": "<pandas.io.formats.style.Styler at 0x18cf4458d30>",
      "text/html": "<style  type=\"text/css\" >\n    #T_5fd46_ th {\n          font-size: 30pt;\n          color: purple;\n    }    #T_5fd46_ td {\n          font-size: 25pt;\n          color: black;\n    }</style><table id=\"T_5fd46_\" ><thead>    <tr>        <th class=\"col_heading level0 col0\" >Device</th>        <th class=\"col_heading level0 col1\" >Location</th>        <th class=\"col_heading level0 col2\" >Temperature</th>        <th class=\"col_heading level0 col3\" >Average temperature</th>        <th class=\"col_heading level0 col4\" >Battery</th>        <th class=\"col_heading level0 col5\" >Date</th>    </tr></thead><tbody>\n                <tr>\n                                <td id=\"T_5fd46_row0_col0\" class=\"data row0 col0\" >a</td>\n                        <td id=\"T_5fd46_row0_col1\" class=\"data row0 col1\" >Zwolle</td>\n                        <td id=\"T_5fd46_row0_col2\" class=\"data row0 col2\" >123</td>\n                        <td id=\"T_5fd46_row0_col3\" class=\"data row0 col3\" >128</td>\n                        <td id=\"T_5fd46_row0_col4\" class=\"data row0 col4\" >88</td>\n                        <td id=\"T_5fd46_row0_col5\" class=\"data row0 col5\" >12/4/2021</td>\n            </tr>\n            <tr>\n                                <td id=\"T_5fd46_row1_col0\" class=\"data row1 col0\" >b</td>\n                        <td id=\"T_5fd46_row1_col1\" class=\"data row1 col1\" >Hattem</td>\n                        <td id=\"T_5fd46_row1_col2\" class=\"data row1 col2\" >145</td>\n                        <td id=\"T_5fd46_row1_col3\" class=\"data row1 col3\" >150</td>\n                        <td id=\"T_5fd46_row1_col4\" class=\"data row1 col4\" >95</td>\n                        <td id=\"T_5fd46_row1_col5\" class=\"data row1 col5\" >12/4/2021</td>\n            </tr>\n            <tr>\n                                <td id=\"T_5fd46_row2_col0\" class=\"data row2 col0\" >c</td>\n                        <td id=\"T_5fd46_row2_col1\" class=\"data row2 col1\" >Verwegistan</td>\n                        <td id=\"T_5fd46_row2_col2\" class=\"data row2 col2\" >195</td>\n                        <td id=\"T_5fd46_row2_col3\" class=\"data row2 col3\" >180</td>\n                        <td id=\"T_5fd46_row2_col4\" class=\"data row2 col4\" >45</td>\n                        <td id=\"T_5fd46_row2_col5\" class=\"data row2 col5\" >12/3/2021</td>\n            </tr>\n            <tr>\n                                <td id=\"T_5fd46_row3_col0\" class=\"data row3 col0\" >d</td>\n                        <td id=\"T_5fd46_row3_col1\" class=\"data row3 col1\" >Rotterdam</td>\n                        <td id=\"T_5fd46_row3_col2\" class=\"data row3 col2\" >154</td>\n                        <td id=\"T_5fd46_row3_col3\" class=\"data row3 col3\" >145</td>\n                        <td id=\"T_5fd46_row3_col4\" class=\"data row3 col4\" >76</td>\n                        <td id=\"T_5fd46_row3_col5\" class=\"data row3 col5\" >12/4/2021</td>\n            </tr>\n            <tr>\n                                <td id=\"T_5fd46_row4_col0\" class=\"data row4 col0\" >e</td>\n                        <td id=\"T_5fd46_row4_col1\" class=\"data row4 col1\" >Groningen</td>\n                        <td id=\"T_5fd46_row4_col2\" class=\"data row4 col2\" >135</td>\n                        <td id=\"T_5fd46_row4_col3\" class=\"data row4 col3\" >136</td>\n                        <td id=\"T_5fd46_row4_col4\" class=\"data row4 col4\" >23</td>\n                        <td id=\"T_5fd46_row4_col5\" class=\"data row4 col5\" >12/5/2021</td>\n            </tr>\n    </tbody></table>"
     },
     "metadata": {}
    }
   ],
   "source": [
    "# display(header)\n",
    "\n",
    "styled=style_table(df)\n",
    "table = display(header,styled,display_id=True)\n",
    "table.display\n",
    "\n",
    "\n",
    "dfi.export(styled,\"mytable.png\")"
   ]
  },
  {
   "cell_type": "code",
   "execution_count": 38,
   "id": "working-singles",
   "metadata": {},
   "outputs": [
    {
     "output_type": "display_data",
     "data": {
      "text/plain": "HBox(children=(VBox(children=(IntSlider(value=0, description='a'), IntSlider(value=0, description='b'), IntSli…",
      "application/vnd.jupyter.widget-view+json": {
       "version_major": 2,
       "version_minor": 0,
       "model_id": "9d5a1aff7a514ce0a5bc7436a167752f"
      }
     },
     "metadata": {}
    }
   ],
   "source": [
    "a = ipw.IntSlider(description='a')\n",
    "b = ipw.IntSlider(description='b')\n",
    "c = ipw.IntSlider(description='c')\n",
    "def f(a, b, c):\n",
    "    print('{}*{}*{}={}'.format(a, b, c, a*b*c))\n",
    "\n",
    "out = ipw.interactive_output(f, {'a': a, 'b': b, 'c': c})\n",
    "\n",
    "ipw.HBox([ipw.VBox([a, b, c]), out])"
   ]
  },
  {
   "cell_type": "code",
   "execution_count": 39,
   "id": "accurate-strip",
   "metadata": {},
   "outputs": [],
   "source": [
    "import anvil.server\n",
    "import anvil.media\n",
    "\n",
    "anvil.server.connect(\"RSXSXOAASK7XHYEZ7MOJZ7ML-5DKFG2XBRGY523NO\")"
   ]
  },
  {
   "cell_type": "code",
   "execution_count": 40,
   "id": "center-difference",
   "metadata": {},
   "outputs": [],
   "source": [
    "@anvil.server.callable\n",
    "def headline_txt():\n",
    "    headline_txt = 'Heading_text'\n",
    "    return headline_txt\n",
    "\n",
    "@anvil.server.callable\n",
    "def get_df():\n",
    "    media_object = anvil.media.from_file('D:/GitHub/GUI-Heat-Tracing/Data/mytable.png')\n",
    "    return media_object"
   ]
  },
  {
   "cell_type": "code",
   "execution_count": null,
   "metadata": {},
   "outputs": [],
   "source": []
  }
 ],
 "metadata": {
  "kernelspec": {
   "name": "python383jvsc74a57bd02db524e06e9f5f4ffedc911c917cb75e12dbc923643829bf417064a77eb14d37",
   "display_name": "Python 3.8.3 64-bit"
  },
  "language_info": {
   "codemirror_mode": {
    "name": "ipython",
    "version": 3
   },
   "file_extension": ".py",
   "mimetype": "text/x-python",
   "name": "python",
   "nbconvert_exporter": "python",
   "pygments_lexer": "ipython3",
   "version": "3.8.3"
  }
 },
 "nbformat": 4,
 "nbformat_minor": 5
}
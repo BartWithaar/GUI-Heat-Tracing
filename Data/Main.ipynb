{
 "metadata": {
  "language_info": {
   "codemirror_mode": {
    "name": "ipython",
    "version": 3
   },
   "file_extension": ".py",
   "mimetype": "text/x-python",
   "name": "python",
   "nbconvert_exporter": "python",
   "pygments_lexer": "ipython3",
   "version": "3.8.3"
  },
  "orig_nbformat": 2,
  "kernelspec": {
   "name": "python383jvsc74a57bd02db524e06e9f5f4ffedc911c917cb75e12dbc923643829bf417064a77eb14d37",
   "display_name": "Python 3.8.3 64-bit"
  },
  "metadata": {
   "interpreter": {
    "hash": "f2575392019334285e0602a4035eec46b9260ee4c95297ea34ade6e3c8b8fcaf"
   }
  }
 },
 "nbformat": 4,
 "nbformat_minor": 2,
 "cells": [
  {
   "cell_type": "code",
   "execution_count": 98,
   "metadata": {},
   "outputs": [],
   "source": [
    "\n",
    "import pandas as pd\n",
    "import numpy as np\n",
    "import matplotlib.pyplot as plt\n",
    "import dataframe_image as dfi\n",
    "import anvil.mpl_util\n",
    "import os\n",
    "import time\n",
    "\n",
    "from IPython.core.display import HTML, clear_output\n",
    "from ipywidgets.widgets import Label, Layout\n",
    "from ipywidgets.widgets import Button, Text, ToggleButtons\n",
    "from ipywidgets.widgets import interact, interactive, fixed, interact_manual"
   ]
  },
  {
   "source": [
    "### anvil connection"
   ],
   "cell_type": "markdown",
   "metadata": {}
  },
  {
   "cell_type": "code",
   "execution_count": 99,
   "metadata": {},
   "outputs": [],
   "source": [
    "import anvil.server\n",
    "import anvil.media\n",
    "\n",
    "anvil.server.connect(\"RSXSXOAASK7XHYEZ7MOJZ7ML-5DKFG2XBRGY523NO\")"
   ]
  },
  {
   "source": [
    "### Dataframe initialiser"
   ],
   "cell_type": "markdown",
   "metadata": {}
  },
  {
   "cell_type": "code",
   "execution_count": 100,
   "metadata": {},
   "outputs": [],
   "source": [
    "df = pd.read_csv(\"TestData.csv\", sep=\",\")\n",
    "pd.set_option('display.max_columns', 200) \n",
    "pd.set_option('display.max_rows', 200) \n",
    "df_sorted=df.sort_values(by=['Device'])\n",
    "styled = style_table(df_sorted)\n",
    "dfi.export(styled,\"mytable.png\")\n",
    "data = 'Device'"
   ]
  },
  {
   "source": [
    "### Table Styler"
   ],
   "cell_type": "markdown",
   "metadata": {}
  },
  {
   "cell_type": "code",
   "execution_count": 101,
   "metadata": {},
   "outputs": [],
   "source": [
    "def style_table(dataframe):\n",
    "    dataframe_styled = dataframe.style.set_table_styles(\n",
    "           [{\n",
    "               'selector': 'th',\n",
    "               'props': [\n",
    "                   ('font-size', '30pt'),\n",
    "                   ('color', 'purple')]\n",
    "           },\n",
    "           {\n",
    "               'selector': 'td',\n",
    "               'props': [\n",
    "                   ('font-size', '25pt'),\n",
    "                   ('color', 'black')]\n",
    "           }\n",
    "           ])\n",
    "\n",
    "    dataframe_styled.hide_index()\n",
    "    return dataframe_styled    "
   ]
  },
  {
   "source": [
    "### Update table"
   ],
   "cell_type": "markdown",
   "metadata": {}
  },
  {
   "cell_type": "code",
   "execution_count": 102,
   "metadata": {},
   "outputs": [],
   "source": [
    "def update_table(df_filter):\n",
    "    global data\n",
    "    df_update=df_filter.sort_values(by=[data])\n",
    "    df_styled=style_table(df_update)\n",
    "    \n",
    "    os.remove(\"mytable.png\")\n",
    "    time.sleep(0.75)\n",
    "    dfi.export(df_styled,\"mytable.png\")\n",
    "            \n",
    "    \n"
   ]
  },
  {
   "source": [
    "### Textbox function"
   ],
   "cell_type": "markdown",
   "metadata": {}
  },
  {
   "cell_type": "code",
   "execution_count": 103,
   "metadata": {},
   "outputs": [],
   "source": [
    "@anvil.server.callable\n",
    "def handle_submit(value):\n",
    "    input = str(value)\n",
    "    df_filter=df[df.apply(lambda row: row.astype(str).str.contains(input).any(), axis=1)]\n",
    "    update_table(df_filter)\n",
    "    media_object = anvil.media.from_file('D:/GitHub/GUI-Heat-Tracing/Data/mytable.png')\n",
    "    return media_object"
   ]
  },
  {
   "source": [
    "Sort by function"
   ],
   "cell_type": "markdown",
   "metadata": {}
  },
  {
   "cell_type": "code",
   "execution_count": 104,
   "metadata": {},
   "outputs": [],
   "source": [
    "@anvil.server.callable\n",
    "def handle_submit2(value, sorter):\n",
    "    input = str(value)\n",
    "    global data \n",
    "    data = sorter\n",
    "    df_filter=df[df.apply(lambda row: row.astype(str).str.contains(input).any(), axis=1)]\n",
    "    update_table(df_filter)\n",
    "    media_object = anvil.media.from_file('D:/GitHub/GUI-Heat-Tracing/Data/mytable.png')\n",
    "    return media_object\n"
   ]
  },
  {
   "source": [
    "### Get dataframe"
   ],
   "cell_type": "markdown",
   "metadata": {}
  },
  {
   "cell_type": "code",
   "execution_count": 105,
   "metadata": {},
   "outputs": [],
   "source": [
    "@anvil.server.callable\n",
    "def get_df():\n",
    "    media_object = anvil.media.from_file('D:/GitHub/GUI-Heat-Tracing/Data/mytable.png')\n",
    "    return media_object"
   ]
  },
  {
   "cell_type": "code",
   "execution_count": 110,
   "metadata": {},
   "outputs": [
    {
     "output_type": "execute_result",
     "data": {
      "text/plain": [
       "  Device     Location Temperature Average temperature Battery       Date\n",
       "0      a       Zwolle         137                 130      75  27/5/2021\n",
       "1      b       Hattem         145                 150     851  12/4/2021\n",
       "2      c  Verwegistan         195                 180     801  12/3/2021\n",
       "3      d    Rotterdam         154                 145     832  12/4/2021\n",
       "4      e    Groningen         135                 136     779  12/5/2021"
      ],
      "text/html": "<div>\n<style scoped>\n    .dataframe tbody tr th:only-of-type {\n        vertical-align: middle;\n    }\n\n    .dataframe tbody tr th {\n        vertical-align: top;\n    }\n\n    .dataframe thead th {\n        text-align: right;\n    }\n</style>\n<table border=\"1\" class=\"dataframe\">\n  <thead>\n    <tr style=\"text-align: right;\">\n      <th></th>\n      <th>Device</th>\n      <th>Location</th>\n      <th>Temperature</th>\n      <th>Average temperature</th>\n      <th>Battery</th>\n      <th>Date</th>\n    </tr>\n  </thead>\n  <tbody>\n    <tr>\n      <th>0</th>\n      <td>a</td>\n      <td>Zwolle</td>\n      <td>137</td>\n      <td>130</td>\n      <td>75</td>\n      <td>27/5/2021</td>\n    </tr>\n    <tr>\n      <th>1</th>\n      <td>b</td>\n      <td>Hattem</td>\n      <td>145</td>\n      <td>150</td>\n      <td>851</td>\n      <td>12/4/2021</td>\n    </tr>\n    <tr>\n      <th>2</th>\n      <td>c</td>\n      <td>Verwegistan</td>\n      <td>195</td>\n      <td>180</td>\n      <td>801</td>\n      <td>12/3/2021</td>\n    </tr>\n    <tr>\n      <th>3</th>\n      <td>d</td>\n      <td>Rotterdam</td>\n      <td>154</td>\n      <td>145</td>\n      <td>832</td>\n      <td>12/4/2021</td>\n    </tr>\n    <tr>\n      <th>4</th>\n      <td>e</td>\n      <td>Groningen</td>\n      <td>135</td>\n      <td>136</td>\n      <td>779</td>\n      <td>12/5/2021</td>\n    </tr>\n  </tbody>\n</table>\n</div>"
     },
     "metadata": {},
     "execution_count": 110
    }
   ],
   "source": [
    "df3 = pd.read_csv(\"TestData.csv\", sep=\",\")\n",
    "df3 = df[['Device','Location','Temperature','Average temperature', 'Battery', 'Date']]\n",
    "\n",
    "df3['Battery']+=756\n",
    "new_input_device = 'a'\n",
    "new_input_location = 'Zwolle'\n",
    "new_input_temperature = '137'\n",
    "new_input_average_temperature = '130'\n",
    "new_input_battery = '75'\n",
    "new_input_date = '27/5/2021'\n",
    "\n",
    "for index in df3.index:\n",
    "    if df3.loc[index,'Device']== new_input_device:\n",
    "        df3.loc[index,'Location'] = new_input_location\n",
    "        df3.loc[index,'Temperature'] = new_input_temperature\n",
    "        df3.loc[index,'Average temperature'] = new_input_average_temperature\n",
    "        df3.loc[index,'Battery'] = new_input_battery\n",
    "        df3.loc[index,'Date'] = new_input_date\n",
    "\n",
    "    # elif df3.loc[index,'Name']=='Mr. Zachary J. Kirkhorn':\n",
    "    #     df3.loc[index,'Title'] = 'The Money Man'\n",
    "    # else:\n",
    "    #     df3.loc[index,'Title'] = 'Another Dude'\n",
    "# df3.to_csv('TestData.csv')\n",
    "df3"
   ]
  },
  {
   "cell_type": "code",
   "execution_count": null,
   "metadata": {},
   "outputs": [],
   "source": []
  }
 ]
}